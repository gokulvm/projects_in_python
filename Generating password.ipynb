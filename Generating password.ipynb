{
 "cells": [
  {
   "cell_type": "markdown",
   "metadata": {},
   "source": [
    "# Generating password "
   ]
  },
  {
   "cell_type": "code",
   "execution_count": 2,
   "metadata": {},
   "outputs": [
    {
     "name": "stdout",
     "output_type": "stream",
     "text": [
      "Enter how many string did you want in the password : 6\n",
      "Enter how many number did you want in the password : 3\n",
      "Enter how many special character did you want in the password : 2\n",
      "your password : qIqa6!IH%98\n"
     ]
    }
   ],
   "source": [
    "import random\n",
    "\n",
    "#asking user requirements\n",
    "string = int(input(\"Enter how many string did you want in the password : \"))\n",
    "number = int(input(\"Enter how many number did you want in the password : \"))\n",
    "special_character = int(input(\"Enter how many special character did you want in the password : \"))\n",
    "\n",
    "\n",
    "alphabet = [\"A\",\"B\",\"C\",\"D\",\"E\",\"F\",\"G\",\"H\",\"I\",\"J\",\"K\",\"L\",\"M\",\"N\",\"O\",\"P\",\"Q\",\"R\",\"S\",\"T\",\"U\",\"V\",\"W\",\"X\",\"Y\",\"Z\"]\n",
    "\n",
    "num = [\"1\",\"2\",\"3\",\"4\",\"5\",\"6\",\"7\",\"8\",\"9\",\"0\"]\n",
    "\n",
    "character = \"!@#$%&*\"\n",
    "\n",
    "#split string variable into two parts,to print captial letters and small letters\n",
    "string_1 = int(string/2)\n",
    "string_2 = int(string/2)\n",
    "\n",
    "total = special_character + number + string\n",
    "\n",
    "final = []  #This list contains password\n",
    "\n",
    "if total > 6:   #password length should be grater than 6\n",
    "    for i in range(string_1):\n",
    "        val = random.choice(alphabet)\n",
    "        final.append(val)             #appending values to the final list\n",
    "\n",
    "    for i in range(string_2):\n",
    "        val_1 = random.choice(alphabet)\n",
    "        final.append(val_1.lower())\n",
    "\n",
    "    for i in range(number):\n",
    "        val_2 = random.choice(num)\n",
    "        final.append(val_2)\n",
    "\n",
    "    for i in range(special_character):\n",
    "        val_3 = random.choice(character)\n",
    "        final.append(val_3)\n",
    "\n",
    "\n",
    "else:\n",
    "    print(\"enter minimum 6 character\")\n",
    "    \n",
    "\n",
    "random.shuffle(final)    #shufffle the list\n",
    "ans = \"\"\n",
    "for i in final:\n",
    "    ans += i\n",
    "\n",
    "print(f\"your password : {ans}\")"
   ]
  }
 ],
 "metadata": {
  "kernelspec": {
   "display_name": "Python 3",
   "language": "python",
   "name": "python3"
  },
  "language_info": {
   "codemirror_mode": {
    "name": "ipython",
    "version": 3
   },
   "file_extension": ".py",
   "mimetype": "text/x-python",
   "name": "python",
   "nbconvert_exporter": "python",
   "pygments_lexer": "ipython3",
   "version": "3.8.0"
  }
 },
 "nbformat": 4,
 "nbformat_minor": 4
}
