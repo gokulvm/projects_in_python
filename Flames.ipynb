{
 "cells": [
  {
   "cell_type": "markdown",
   "metadata": {},
   "source": [
    "# Flames Game"
   ]
  },
  {
   "cell_type": "code",
   "execution_count": 1,
   "metadata": {},
   "outputs": [
    {
     "name": "stdout",
     "output_type": "stream",
     "text": [
      "Enter the first name: Tony Stark\n",
      "Enter the second name: Pepper Potts\n",
      "Tony Stark and Pepper Potts have a relationship of Lover.\n"
     ]
    }
   ],
   "source": [
    "first = input(\"Enter the first name: \")   #Getting the name from the user\n",
    "second = input(\"Enter the second name: \")\n",
    "\n",
    "name1 = first.lower()\n",
    "name2 = second.lower()\n",
    "\n",
    "name1 = name1.replace(\" \",\"\")             #many names have spaces we need to remove that\n",
    "name2 = name2.replace(\" \",\"\")\n",
    "\n",
    "for i in name1:\n",
    "    for j in name2:\n",
    "        if i==j:            #if the letters are same\n",
    "            name1= name1.replace(i,\"\",1)    #deleting the letter from name\n",
    "            name2 = name2.replace(j,\"\",1)\n",
    "            break\n",
    "\n",
    "final = name1+name2   #concatinate the remaining letters\n",
    "#print(final)\n",
    "\n",
    "num = len(final)\n",
    "\n",
    "if num > 0:\n",
    "    relation = [\"Friends\", \"Lover\", \"Affection\", \"Marriage\", \"Enemy\", \"Siblings\"]\n",
    "    while len(relation)>1:\n",
    "        l = len(relation)\n",
    "        c = int(num % l)\n",
    "        count = c-1\n",
    "        if count >=0:\n",
    "            start = relation[ :count]   #strike the FLAMES letters\n",
    "            end = relation[count+1: ]\n",
    "            relation = end + start\n",
    "\n",
    "\n",
    "        else:\n",
    "            relation = relation[:len(relation)-1]\n",
    "\n",
    "\n",
    "    answer = relation[0]\n",
    "    print(f\"{first} and {second} have a relationship of {answer}.\")\n",
    "\n",
    "else:\n",
    "    print(\"These people have no relation with each other\")"
   ]
  }
 ],
 "metadata": {
  "kernelspec": {
   "display_name": "Python 3",
   "language": "python",
   "name": "python3"
  },
  "language_info": {
   "codemirror_mode": {
    "name": "ipython",
    "version": 3
   },
   "file_extension": ".py",
   "mimetype": "text/x-python",
   "name": "python",
   "nbconvert_exporter": "python",
   "pygments_lexer": "ipython3",
   "version": "3.8.0"
  }
 },
 "nbformat": 4,
 "nbformat_minor": 4
}
